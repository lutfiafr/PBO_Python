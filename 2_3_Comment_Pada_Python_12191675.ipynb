{
 "cells": [
  {
   "cell_type": "code",
   "execution_count": null,
   "metadata": {
    "id": "QChNmnXf_-pE"
   },
   "outputs": [],
   "source": []
  },
  {
   "cell_type": "markdown",
   "metadata": {
    "id": "CQqHfxdyArzJ"
   },
   "source": [
    "##Melakukan Comment Pada Python\n",
    "Pada suatu kegiatan membuat code, penting sekali bagi para penulis codenya untuk memberikan sebuah dokumentasi pada penulisan codenya. Mengapa hal itu sangat penting? Sederhana, jika codenya sudah lebih dari ribuan baris dan ada beberapa bagian yang perlu diperbaiki karena suatu perubahan, para penulis code cukup melihat dokumentasinya dan tidak perlu membaca dan memahami seluruh isi code dari awal. Nah, salah satu metode yang biasa digunakan adalah menggunakan comment. Sama dengan Bahasa Python juga menggunakan tanda “#” untuk melakukan comment pada script.\n",
    "\n",
    "Cobalah ketikkan sebuah kalimat seperti di bawah ini beserta commentnya. Kemudian lakukan eksekusi dengan menekan tombol **[Run]**"
   ]
  },
  {
   "cell_type": "code",
   "execution_count": null,
   "metadata": {
    "id": "oBXKvs3qA2Xb"
   },
   "outputs": [],
   "source": [
    "print(\"Ini adalah sebuah baris kode\")#ini adalah contoh comment dan tidak akan tercetak"
   ]
  },
  {
   "cell_type": "markdown",
   "metadata": {
    "id": "8yPh4FQWA_DU"
   },
   "source": [
    "Perlu diketahui, comment tidak akan pernah tampil pada hasil melalui console atau GUI. Fungsi comment bisa dikatakan sebagai penanda. Kenapa bab ini diberikan diawal? Harapannya dengan pengetahuan ini setiap kali Anda membuat baris code, bisa diberikan dokumentasi. Dokumentasi sangat penting untuk pengembangan suatu code apabila memang nanti diperlukan.\n",
    "\n",
    "Dokumentasi kode juga berlaku untuk variable. Sangat penting mengetahui bahwa setiap variable berfungsi sebagai apa dan isinya apa. Maka dari itu jangan lupa untuk membuat dan memberi comment untuk setiap kode pada materi kita\n",
    "\n",
    " \n",
    "\n",
    "**Tugas Praktek 3.2**\n",
    "\n",
    "1. Berikan keterangan untuk setiap baris program dengan perintah comment"
   ]
  },
  {
   "cell_type": "code",
   "execution_count": 6,
   "metadata": {
    "id": "Yy5gqIzRBApb"
   },
   "outputs": [
    {
     "name": "stdout",
     "output_type": "stream",
     "text": [
      "25\n",
      "20\n",
      "123\n",
      "25.0\n"
     ]
    }
   ],
   "source": [
    "#Jawab Tugas Praktek 3.2 Nomor 1\n",
    "\n",
    "print(10*2+5) #fungsi matematika\n",
    "print(\"20\") #fungsi mencetak kalimat\n",
    "\n",
    "print (123) #mencetak angka\n",
    "\n",
    "alas = 15\n",
    "tinggi = 10\n",
    "luas = 0.5*alas*tinggi\n",
    "print(luas) #rumus menghitung luas segitiga"
   ]
  },
  {
   "cell_type": "markdown",
   "metadata": {
    "id": "PQsFFoqjBJm0"
   },
   "source": [
    "2. Cetak Nama dan NIM anda dilayar berikan comment untuk masing - masing perintah"
   ]
  },
  {
   "cell_type": "code",
   "execution_count": 2,
   "metadata": {
    "id": "SiToLqkJw3p7"
   },
   "outputs": [
    {
     "name": "stdout",
     "output_type": "stream",
     "text": [
      "25\n",
      "20\n",
      "Lutfi Afriatul Latifah\n",
      "12191675\n"
     ]
    }
   ],
   "source": [
    "#Jawab Tugas Praktek 3.2 Nomor 2\n",
    "\n",
    "print(10*2+5) #fungsi matematika\n",
    "print(\"20\") #fungsi mencetak kalimat\n",
    "print (\"Lutfi Afriatul Latifah\") #fungsi untuk mencetak nama\n",
    "print (12191675) #mencetak angka"
   ]
  },
  {
   "cell_type": "code",
   "execution_count": null,
   "metadata": {},
   "outputs": [],
   "source": []
  }
 ],
 "metadata": {
  "colab": {
   "authorship_tag": "ABX9TyNmymM32oEo5EeojKabA1u1",
   "collapsed_sections": [],
   "name": "2_3_Comment_Pada_Python.ipynb",
   "provenance": [
    {
     "file_id": "1ywZxzHvVpBns6QevdNB1pdTbHDpSz7dt",
     "timestamp": 1603247941907
    }
   ]
  },
  "kernelspec": {
   "display_name": "Python 3",
   "language": "python",
   "name": "python3"
  },
  "language_info": {
   "codemirror_mode": {
    "name": "ipython",
    "version": 3
   },
   "file_extension": ".py",
   "mimetype": "text/x-python",
   "name": "python",
   "nbconvert_exporter": "python",
   "pygments_lexer": "ipython3",
   "version": "3.8.3"
  }
 },
 "nbformat": 4,
 "nbformat_minor": 1
}

{
 "cells": [
  {
   "cell_type": "code",
   "execution_count": null,
   "metadata": {
    "id": "fkV8YRAQlm-C"
   },
   "outputs": [],
   "source": []
  },
  {
   "cell_type": "markdown",
   "metadata": {
    "id": "lnkJ-zBHl3jp"
   },
   "source": [
    "## Access Element\n",
    "Keunikan lain dari looping dengan python adalah selain bahasa yang mudah dimengerti dalam looping, kita juga bisa mengakses elemen yang terdapat pada sebuah list. Berikut ini contohnya :\n",
    "``` javascript\n",
    "#Tugas 3.2.1\n",
    "count=[1,2,3,4,5] #elemen list\n",
    "\n",
    "for number in count: #looping untuk menampilkan semua elemen pada count\n",
    "    print(\"Ini adalah element count : \", number) #menampilkan elemen list pada count\n",
    "```\n",
    "Implekementasikan kode diatas, ketikan pada code cell di bawah ini, berikan penjelasan terkait kode diatas"
   ]
  },
  {
   "cell_type": "code",
   "execution_count": 14,
   "metadata": {
    "id": "xYjQqqNLm-dB"
   },
   "outputs": [
    {
     "name": "stdout",
     "output_type": "stream",
     "text": [
      "Ini adalah element count :  1\n",
      "Ini adalah element count :  2\n",
      "Ini adalah element count :  3\n",
      "Ini adalah element count :  4\n",
      "Ini adalah element count :  5\n"
     ]
    }
   ],
   "source": [
    "# Jawaban Tugas 3.2.1\n",
    "count=[1,2,3,4,5] #elemen list\n",
    "\n",
    "for number in count: #looping untuk menampilkan semua elemen pada count\n",
    "    print(\"Ini adalah element count : \", number) #menampilkan elemen list pada count\n",
    "#Diawal code diisi 5 elemen list. kemudian elemen list ditampilkan menggunakan perulangan for. setelah itu di cetak menjadi \"ini adalah emenennt count\" sebanyak 5x."
   ]
  },
  {
   "cell_type": "markdown",
   "metadata": {
    "id": "figDWKAcnZRA"
   },
   "source": [
    "## Tugas Praktek 3.2.2\n",
    "1. Buatlah sebuah program yang bisa mengeluarkan angka 1 sampai 10.\n",
    "1. Buatlah sebuah program yang bisa mengeluarkan angka -20 sampai -50.\n",
    "3. Tampilan akan menunjukan \"Angka ganjil 1\" untuk angka ganjil dan \"Angka genap 2\" untuk angka genap. (Menggunakan looping for)\n",
    "\n",
    "**Note:** Kode dasar sudah disertakan, Anda cukup mengganti tanda # dengan nilai-nilai yang sesuai."
   ]
  },
  {
   "cell_type": "code",
   "execution_count": 15,
   "metadata": {
    "id": "MElhruOTntzZ"
   },
   "outputs": [
    {
     "name": "stdout",
     "output_type": "stream",
     "text": [
      "  1\n",
      "  2\n",
      "  3\n",
      "  4\n",
      "  5\n",
      "  6\n",
      "  7\n",
      "  8\n",
      "  9\n",
      "  10\n"
     ]
    }
   ],
   "source": [
    "#Jawaban Tugas 3.2.1.1\n",
    "angka = 1\n",
    "while (angka <=10): \n",
    "    print(\" \",angka) #dijalankan terus selama angka masih lebih kecil dari 11\n",
    "    angka = angka + 1 #angka ditambah 1 setiap kali iterasi"
   ]
  },
  {
   "cell_type": "code",
   "execution_count": 16,
   "metadata": {},
   "outputs": [
    {
     "name": "stdout",
     "output_type": "stream",
     "text": [
      "-20-21-22-23-24-25-26-27-28-29-30-31-32-33-34-35-36-37-38-39-40-41-42-43-44-45-46-47-48-49-50"
     ]
    }
   ],
   "source": [
    "#Jawaban Tugas 3.2.1.2\n",
    "for i in range(-20, -51, -1):\n",
    "        print(i, end='')"
   ]
  },
  {
   "cell_type": "code",
   "execution_count": 17,
   "metadata": {
    "id": "NFtMjrQznuF2"
   },
   "outputs": [
    {
     "name": "stdout",
     "output_type": "stream",
     "text": [
      "angka ganjil 1 :  1\n",
      "angka genap  2 :  2\n",
      "angka ganjil 1 :  3\n",
      "angka genap  2 :  4\n",
      "angka ganjil 1 :  5\n",
      "angka genap  2 :  6\n",
      "angka ganjil 1 :  7\n",
      "angka genap  2 :  8\n",
      "angka ganjil 1 :  9\n",
      "angka genap  2 :  10\n"
     ]
    }
   ],
   "source": [
    "#Jawaban Tugas 3.2.1.3\n",
    "count = [1,2,3,4,5,6,7,8,9,10]\n",
    "for angka in count:\n",
    "    if angka > 0:\n",
    "        if (angka%2) == 0:\n",
    "            print(\"angka genap  2 : \", angka)\n",
    "        else:\n",
    "            print(\"angka ganjil 1 : \", angka)"
   ]
  },
  {
   "cell_type": "code",
   "execution_count": null,
   "metadata": {
    "id": "xpGigMPBpBy7"
   },
   "outputs": [],
   "source": []
  }
 ],
 "metadata": {
  "colab": {
   "collapsed_sections": [],
   "name": "3.2_Tugas_Perulangan.ipynb",
   "provenance": []
  },
  "kernelspec": {
   "display_name": "Python 3",
   "language": "python",
   "name": "python3"
  },
  "language_info": {
   "codemirror_mode": {
    "name": "ipython",
    "version": 3
   },
   "file_extension": ".py",
   "mimetype": "text/x-python",
   "name": "python",
   "nbconvert_exporter": "python",
   "pygments_lexer": "ipython3",
   "version": "3.8.3"
  }
 },
 "nbformat": 4,
 "nbformat_minor": 1
}
